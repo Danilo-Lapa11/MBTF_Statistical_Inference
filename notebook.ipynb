{
 "cells": [
  {
   "cell_type": "markdown",
   "metadata": {},
   "source": [
    "# **Projeto :**  Análise de Servidores do Rock in Rio com a metríca MTBF (Mean Time Between Failures)"
   ]
  },
  {
   "cell_type": "markdown",
   "metadata": {},
   "source": [
    "#### **Instalação das dependências**"
   ]
  },
  {
   "cell_type": "code",
   "execution_count": null,
   "metadata": {},
   "outputs": [],
   "source": [
    "#! pip install matplotlib\n",
    "#! pip install seaborn\n",
    "#! pip install scipy"
   ]
  },
  {
   "cell_type": "markdown",
   "metadata": {},
   "source": [
    "#### **Importação dos Módulos**"
   ]
  },
  {
   "cell_type": "code",
   "execution_count": null,
   "metadata": {},
   "outputs": [],
   "source": [
    "import numpy as np\n",
    "import seaborn as sns\n",
    "import scipy.stats as stats\n",
    "import matplotlib.pyplot as plt"
   ]
  },
  {
   "cell_type": "markdown",
   "metadata": {},
   "source": [
    "#### **Leitura dos Dados**"
   ]
  },
  {
   "cell_type": "code",
   "execution_count": null,
   "metadata": {},
   "outputs": [],
   "source": [
    "data_file = \"MBTF_data.txt\"\n",
    "data_set = open(data_file, 'r')\n",
    "\n",
    "data = []\n",
    "for linha in data_set:\n",
    "   data.append(float(linha.replace(',', '.')))"
   ]
  },
  {
   "cell_type": "markdown",
   "metadata": {},
   "source": [
    "### **Análise Descritiva**"
   ]
  },
  {
   "cell_type": "markdown",
   "metadata": {},
   "source": [
    "#### **Medidas de Centralidade dos Dados**"
   ]
  },
  {
   "cell_type": "code",
   "execution_count": null,
   "metadata": {},
   "outputs": [],
   "source": [
    "import statistics\n",
    "from scipy.stats import kurtosis\n",
    "\n",
    "media = statistics.mean(data)\n",
    "mediana = statistics.median(data)\n",
    "moda = statistics.mode(data)\n",
    "desvioPadrao = statistics.stdev(data)\n",
    "variancia = statistics.variance(data)\n",
    "quartis = np.percentile(data, [25, 50, 75])\n",
    "curtose = kurtosis(data)\n",
    "\n",
    "print(f\"Média:  {media:.4f}\")\n",
    "print(f\"Mediana:  {mediana:.4f}\")\n",
    "print(f\"Moda:  {moda:.4f}\")\n",
    "print(f\"Desvio Padrão:  {desvioPadrao:.4f}\")\n",
    "print(f\"Variância:  {variancia:.4f}\")\n",
    "print(\"Quartis:\", quartis)\n",
    "print(\"Curtose:\", curtose)\n"
   ]
  },
  {
   "cell_type": "markdown",
   "metadata": {},
   "source": [
    "### **Teste de Hipótese - Não é uma distribuição Normal**"
   ]
  },
  {
   "cell_type": "markdown",
   "metadata": {},
   "source": [
    "#### **Teste Q-Q**\n"
   ]
  },
  {
   "cell_type": "code",
   "execution_count": null,
   "metadata": {},
   "outputs": [],
   "source": [
    "from scipy.stats import probplot\n",
    "\n",
    "fig, ax = plt.subplots(figsize=(8, 4))\n",
    "probplot(data, plot=ax)\n",
    "\n",
    "# Definir título e rótulos dos eixos\n",
    "ax.set_title(\"Q-Q Plot dos dados\")\n",
    "ax.set_xlabel(\"Quantis teóricos\")\n",
    "ax.set_ylabel(\"MTBF - Mean Time Between Failures\")\n",
    "\n",
    "plt.show()"
   ]
  },
  {
   "cell_type": "markdown",
   "metadata": {},
   "source": [
    "#### **Histograma de Distribuição de Frequência**"
   ]
  },
  {
   "cell_type": "code",
   "execution_count": null,
   "metadata": {},
   "outputs": [],
   "source": [
    "histog = sns.histplot(data, kde=True, bins=30)\n",
    "histog.set(title=\"MTBF X Frequência\", xlabel=\"Mean Time Between Failures (MTBF)\", ylabel=\"Frequência\")\n",
    "plt.show()"
   ]
  },
  {
   "cell_type": "markdown",
   "metadata": {},
   "source": [
    "#### **Box-Plot**"
   ]
  },
  {
   "cell_type": "code",
   "execution_count": null,
   "metadata": {},
   "outputs": [],
   "source": [
    "sns.boxplot(data)\n",
    "plt.title(\"Box Plot - MBTF\")\n",
    "plt.xlabel(\"Valores (h)\")\n",
    "plt.show()"
   ]
  },
  {
   "cell_type": "markdown",
   "metadata": {},
   "source": [
    "#### **Teste de Normalidade de Anderson Darling** - *Scipy*"
   ]
  },
  {
   "cell_type": "code",
   "execution_count": null,
   "metadata": {},
   "outputs": [],
   "source": [
    "# Teste de normalidade com o teste de Anderson-Darling\n",
    "stats, critical, teoric = stats.anderson(data, dist='norm')\n",
    "\n",
    "print(\"H0 = É uma distribuição normal\")\n",
    "print(\"Ha = NÃO é uma distribuição normal\")\n",
    "print(f\"Estatística do teste AD: {stats}\")\n",
    "print()\n",
    "print(f\"O resultado da estatistica de Anderson Darling é igual a {stats:.4f} e o teste:\")\n",
    "    \n",
    "# Compara o valor de estatística crítico com cada alfa \n",
    "for i in range(len(teoric)):\n",
    "    if stats < critical[i]:\n",
    "        print(f'com {str(100 - teoric[i])}% de confiança, teve evidências para ACEITAR a hipótese nula, segundo o teste de Anderson Darling')\n",
    "    else:\n",
    "        print(f'com {str(100 - teoric[i])}% de confiança, teve evidências para REJEITAR a hipótese nula, segundo o teste de Anderson Darling')"
   ]
  },
  {
   "cell_type": "markdown",
   "metadata": {},
   "source": [
    "#### **Teste de Normalidade de Kolmogorov-Smirnov** - *Scipy*"
   ]
  },
  {
   "cell_type": "code",
   "execution_count": null,
   "metadata": {},
   "outputs": [],
   "source": [
    "import scipy.stats as stats\n",
    "from modules import ks_teste\n",
    "\n",
    "# realiza o teste de Kolmogorov-Smirnov usando a media e o desvio padrao obtido na análise descritiva\n",
    "KS_stats, p_value = stats.kstest(data, cdf='norm', args=(media, desvioPadrao), N = len(data))\n",
    "\n",
    "print(\"H0 = É uma distribuição normal\")\n",
    "print(\"Ha = NÃO é uma distribuição normal\")\n",
    "print(f\"Estatística do teste KS: {KS_stats}\")\n",
    "print(f\"Valor P: {p_value}\")\n",
    "print()\n",
    "\n",
    "# Método que retorna o cálculo de cada valor crítico para amostras > 50 \n",
    "ks_teste.kolmogorov_smirnov_critico(len(data), KS_stats)\n"
   ]
  }
 ],
 "metadata": {
  "kernelspec": {
   "display_name": "Python 3",
   "language": "python",
   "name": "python3"
  },
  "language_info": {
   "codemirror_mode": {
    "name": "ipython",
    "version": 3
   },
   "file_extension": ".py",
   "mimetype": "text/x-python",
   "name": "python",
   "nbconvert_exporter": "python",
   "pygments_lexer": "ipython3",
   "version": "3.10.7"
  },
  "orig_nbformat": 4
 },
 "nbformat": 4,
 "nbformat_minor": 2
}
